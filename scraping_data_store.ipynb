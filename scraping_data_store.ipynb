{
 "cells": [
  {
   "cell_type": "markdown",
   "metadata": {},
   "source": [
    "## Google Playstore"
   ]
  },
  {
   "cell_type": "code",
   "execution_count": null,
   "metadata": {},
   "outputs": [],
   "source": []
  },
  {
   "cell_type": "code",
   "execution_count": null,
   "metadata": {},
   "outputs": [],
   "source": [
    "from google_play_scraper import app, Sort, reviews_all\n",
    "import pandas as pd\n",
    "import numpy as np\n",
    "import json, os, uuid\n",
    "\n",
    "g_reviews = reviews_all(\n",
    "        \"com.bobobox.bobobox\",\n",
    "        sleep_milliseconds=0, # defaults to 0\n",
    "        lang='en', # defaults to 'en'\n",
    "        country='id', # defaults to 'us'\n",
    "        sort=Sort.NEWEST, # defaults to Sort.MOST_RELEVANT\n",
    "    )\n",
    "\n",
    "g_df = pd.DataFrame(np.array(g_reviews),columns=['review'])\n",
    "g_df2 = g_df.join(pd.DataFrame(g_df.pop('review').tolist()))\n",
    "\n",
    "g_df2.drop(columns={'userImage', 'reviewCreatedVersion'},inplace = True)\n",
    "g_df2.rename(columns= {'score': 'rating','userName': 'user_name', 'reviewId': 'review_id', 'content': 'review_description', 'at': 'review_date', 'replyContent': 'developer_response', 'repliedAt': 'developer_response_date', 'thumbsUpCount': 'thumbs_up'},inplace = True)\n",
    "g_df2.insert(loc=0, column='source', value='Google Play')\n",
    "g_df2.insert(loc=3, column='review_title', value=None)\n",
    "g_df2['laguage_code'] = 'en'\n",
    "g_df2['country_code'] = 'us'"
   ]
  },
  {
   "cell_type": "markdown",
   "metadata": {},
   "source": [
    "## App Store"
   ]
  },
  {
   "cell_type": "code",
   "execution_count": null,
   "metadata": {},
   "outputs": [],
   "source": [
    "from app_store_scraper import AppStore\n",
    "\n",
    "a_reviews = AppStore('us', 'password-manager-myvault', '1138075747')\n",
    "a_reviews.review()\n",
    "\n",
    "a_df = pd.DataFrame(np.array(a_reviews.reviews),columns=['review'])\n",
    "a_df2 = a_df.join(pd.DataFrame(a_df.pop('review').tolist()))\n",
    "\n",
    "a_df2.drop(columns={'isEdited'},inplace = True)\n",
    "a_df2.insert(loc=0, column='source', value='App Store')\n",
    "a_df2['developer_response_date'] = None\n",
    "a_df2['thumbs_up'] = None\n",
    "a_df2['laguage_code'] = 'en'\n",
    "a_df2['country_code'] = 'us'\n",
    "a_df2.insert(loc=1, column='review_id', value=[uuid.uuid4() for _ in range(len(a_df2.index))])\n",
    "a_df2.rename(columns= {'review': 'review_description','userName': 'user_name', 'date': 'review_date','title': 'review_title', 'developerResponse': 'developer_response'},inplace = True)\n",
    "a_df2 = a_df2.where(pd.notnull(a_df2), None)\n",
    "\n",
    "\n",
    "result = pd.concat([g_df2,a_df2])\n",
    "result"
   ]
  }
 ],
 "metadata": {
  "kernelspec": {
   "display_name": "Python 3",
   "language": "python",
   "name": "python3"
  },
  "language_info": {
   "name": "python",
   "version": "3.10.7"
  }
 },
 "nbformat": 4,
 "nbformat_minor": 2
}
