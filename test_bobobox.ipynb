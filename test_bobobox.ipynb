{
 "cells": [
  {
   "attachments": {},
   "cell_type": "markdown",
   "metadata": {},
   "source": [
    "# Bobobox Test by Marselius Agus Dhion"
   ]
  },
  {
   "attachments": {},
   "cell_type": "markdown",
   "metadata": {},
   "source": [
    "## Data Understanding"
   ]
  },
  {
   "cell_type": "code",
   "execution_count": 246,
   "metadata": {},
   "outputs": [
    {
     "data": {
      "text/html": [
       "<div>\n",
       "<style scoped>\n",
       "    .dataframe tbody tr th:only-of-type {\n",
       "        vertical-align: middle;\n",
       "    }\n",
       "\n",
       "    .dataframe tbody tr th {\n",
       "        vertical-align: top;\n",
       "    }\n",
       "\n",
       "    .dataframe thead th {\n",
       "        text-align: right;\n",
       "    }\n",
       "</style>\n",
       "<table border=\"1\" class=\"dataframe\">\n",
       "  <thead>\n",
       "    <tr style=\"text-align: right;\">\n",
       "      <th></th>\n",
       "      <th>nps_score</th>\n",
       "      <th>checkin_date</th>\n",
       "      <th>checkout_date</th>\n",
       "      <th>created_at</th>\n",
       "      <th>source</th>\n",
       "      <th>order_id</th>\n",
       "      <th>hotel_name</th>\n",
       "      <th>pod_type</th>\n",
       "      <th>nps_review</th>\n",
       "    </tr>\n",
       "  </thead>\n",
       "  <tbody>\n",
       "    <tr>\n",
       "      <th>0</th>\n",
       "      <td>9</td>\n",
       "      <td>2023-06-11 0:00:00</td>\n",
       "      <td>2023-06-12 0:00:00</td>\n",
       "      <td>2023-06-12 1:04:16</td>\n",
       "      <td>iOS</td>\n",
       "      <td>1.011169e+16</td>\n",
       "      <td>Bobobox Tanah Abang</td>\n",
       "      <td>Earth Single</td>\n",
       "      <td>Ok banget</td>\n",
       "    </tr>\n",
       "    <tr>\n",
       "      <th>1</th>\n",
       "      <td>9</td>\n",
       "      <td>2023-06-10 23:00:00</td>\n",
       "      <td>2023-06-11 23:00:00</td>\n",
       "      <td>2023-06-12 1:03:35</td>\n",
       "      <td>iOS</td>\n",
       "      <td>1.023169e+16</td>\n",
       "      <td>Bobocabin Kintamani</td>\n",
       "      <td>Deluxe Cabin</td>\n",
       "      <td>tempatnya bagus, tenang, nyaman.</td>\n",
       "    </tr>\n",
       "    <tr>\n",
       "      <th>2</th>\n",
       "      <td>9</td>\n",
       "      <td>2023-06-11 0:00:00</td>\n",
       "      <td>2023-06-12 0:00:00</td>\n",
       "      <td>2023-06-12 0:35:32</td>\n",
       "      <td>Android</td>\n",
       "      <td>1.026169e+16</td>\n",
       "      <td>Bobocabin Baturraden</td>\n",
       "      <td>DELUXE CABIN</td>\n",
       "      <td>OKOK</td>\n",
       "    </tr>\n",
       "    <tr>\n",
       "      <th>3</th>\n",
       "      <td>10</td>\n",
       "      <td>2023-05-31 0:00:00</td>\n",
       "      <td>2023-06-01 0:00:00</td>\n",
       "      <td>2023-06-11 17:54:34</td>\n",
       "      <td>iOS</td>\n",
       "      <td>1.004169e+16</td>\n",
       "      <td>Bobobox Pancoran</td>\n",
       "      <td>Earth Double</td>\n",
       "      <td>Please improve staff to be more active and dil...</td>\n",
       "    </tr>\n",
       "    <tr>\n",
       "      <th>4</th>\n",
       "      <td>10</td>\n",
       "      <td>2023-06-09 0:00:00</td>\n",
       "      <td>2023-06-10 0:00:00</td>\n",
       "      <td>2023-06-11 16:02:58</td>\n",
       "      <td>iOS</td>\n",
       "      <td>1.014169e+16</td>\n",
       "      <td>Bobobox Slamet Riyadi Solo</td>\n",
       "      <td>Sky Double</td>\n",
       "      <td>nice</td>\n",
       "    </tr>\n",
       "  </tbody>\n",
       "</table>\n",
       "</div>"
      ],
      "text/plain": [
       "   nps_score         checkin_date        checkout_date           created_at  \\\n",
       "0          9   2023-06-11 0:00:00   2023-06-12 0:00:00   2023-06-12 1:04:16   \n",
       "1          9  2023-06-10 23:00:00  2023-06-11 23:00:00   2023-06-12 1:03:35   \n",
       "2          9   2023-06-11 0:00:00   2023-06-12 0:00:00   2023-06-12 0:35:32   \n",
       "3         10   2023-05-31 0:00:00   2023-06-01 0:00:00  2023-06-11 17:54:34   \n",
       "4         10   2023-06-09 0:00:00   2023-06-10 0:00:00  2023-06-11 16:02:58   \n",
       "\n",
       "    source      order_id                  hotel_name      pod_type  \\\n",
       "0      iOS  1.011169e+16         Bobobox Tanah Abang  Earth Single   \n",
       "1      iOS  1.023169e+16        Bobocabin Kintamani   Deluxe Cabin   \n",
       "2  Android  1.026169e+16        Bobocabin Baturraden  DELUXE CABIN   \n",
       "3      iOS  1.004169e+16            Bobobox Pancoran  Earth Double   \n",
       "4      iOS  1.014169e+16  Bobobox Slamet Riyadi Solo    Sky Double   \n",
       "\n",
       "                                          nps_review  \n",
       "0                                          Ok banget  \n",
       "1                   tempatnya bagus, tenang, nyaman.  \n",
       "2                                               OKOK  \n",
       "3  Please improve staff to be more active and dil...  \n",
       "4                                               nice  "
      ]
     },
     "execution_count": 246,
     "metadata": {},
     "output_type": "execute_result"
    }
   ],
   "source": [
    "import pandas as pd\n",
    "pd.options.display.max_columns = None\n",
    "\n",
    "df = pd.read_csv('D:\\Bobobox\\Data Reporting - Data Set - nps_feedbacks 20230612-12325.tsv', delimiter='\\t')\n",
    "df_en = pd.read_csv('D:\\Bobobox\\Data Reporting - Data Set - EN - nps_feedbacks 20230612-12325_en.tsv', delimiter='\\t')\n",
    "df_id = pd.read_csv('D:\\Bobobox\\Data Reporting - Data Set - ID - nps_feedbacks 20230612-12325_id.tsv', delimiter='\\t')\n",
    "df.head()"
   ]
  },
  {
   "cell_type": "code",
   "execution_count": 281,
   "metadata": {},
   "outputs": [
    {
     "name": "stdout",
     "output_type": "stream",
     "text": [
      "<class 'pandas.core.frame.DataFrame'>\n",
      "RangeIndex: 1000 entries, 0 to 999\n",
      "Data columns (total 9 columns):\n",
      " #   Column         Non-Null Count  Dtype  \n",
      "---  ------         --------------  -----  \n",
      " 0   nps_score      1000 non-null   int64  \n",
      " 1   checkin_date   1000 non-null   object \n",
      " 2   checkout_date  1000 non-null   object \n",
      " 3   created_at     1000 non-null   object \n",
      " 4   source         1000 non-null   object \n",
      " 5   order_id       1000 non-null   float64\n",
      " 6   hotel_name     1000 non-null   object \n",
      " 7   pod_type       1000 non-null   object \n",
      " 8   nps_review     1000 non-null   object \n",
      "dtypes: float64(1), int64(1), object(7)\n",
      "memory usage: 70.4+ KB\n"
     ]
    }
   ],
   "source": [
    "df.info()"
   ]
  },
  {
   "attachments": {},
   "cell_type": "markdown",
   "metadata": {},
   "source": [
    "### Cek kualitas data\n",
    "\n",
    "1. Terdapat 1000 baris dengan 9 kolom\n",
    "2. Tidak terdapat data yang null value"
   ]
  },
  {
   "cell_type": "code",
   "execution_count": 247,
   "metadata": {},
   "outputs": [
    {
     "data": {
      "text/plain": [
       "(1000, 9)"
      ]
     },
     "execution_count": 247,
     "metadata": {},
     "output_type": "execute_result"
    }
   ],
   "source": [
    "df.shape"
   ]
  },
  {
   "cell_type": "code",
   "execution_count": 248,
   "metadata": {},
   "outputs": [
    {
     "name": "stdout",
     "output_type": "stream",
     "text": [
      "<class 'pandas.core.frame.DataFrame'>\n",
      "RangeIndex: 1000 entries, 0 to 999\n",
      "Data columns (total 9 columns):\n",
      " #   Column         Non-Null Count  Dtype  \n",
      "---  ------         --------------  -----  \n",
      " 0   nps_score      1000 non-null   int64  \n",
      " 1   checkin_date   1000 non-null   object \n",
      " 2   checkout_date  1000 non-null   object \n",
      " 3   created_at     1000 non-null   object \n",
      " 4   source         1000 non-null   object \n",
      " 5   order_id       1000 non-null   float64\n",
      " 6   hotel_name     1000 non-null   object \n",
      " 7   pod_type       1000 non-null   object \n",
      " 8   nps_review     1000 non-null   object \n",
      "dtypes: float64(1), int64(1), object(7)\n",
      "memory usage: 70.4+ KB\n"
     ]
    }
   ],
   "source": [
    "df.info()"
   ]
  },
  {
   "cell_type": "code",
   "execution_count": 249,
   "metadata": {},
   "outputs": [
    {
     "data": {
      "text/plain": [
       "nps_score        0\n",
       "checkin_date     0\n",
       "checkout_date    0\n",
       "created_at       0\n",
       "source           0\n",
       "order_id         0\n",
       "hotel_name       0\n",
       "pod_type         0\n",
       "nps_review       0\n",
       "dtype: int64"
      ]
     },
     "execution_count": 249,
     "metadata": {},
     "output_type": "execute_result"
    }
   ],
   "source": [
    "df.isnull().sum()"
   ]
  },
  {
   "cell_type": "code",
   "execution_count": 250,
   "metadata": {},
   "outputs": [
    {
     "data": {
      "text/plain": [
       "nps_score         11\n",
       "checkin_date      65\n",
       "checkout_date     63\n",
       "created_at       999\n",
       "source             2\n",
       "order_id         972\n",
       "hotel_name        27\n",
       "pod_type          23\n",
       "nps_review       866\n",
       "dtype: int64"
      ]
     },
     "execution_count": 250,
     "metadata": {},
     "output_type": "execute_result"
    }
   ],
   "source": [
    "df.nunique()"
   ]
  },
  {
   "attachments": {},
   "cell_type": "markdown",
   "metadata": {},
   "source": [
    "### Exploratory Data Analysis (EDA)\n",
    "1. Dari kolom pod_type terdapat kolom-kolom yang sama, namun formatnya yang berbeda. \n",
    "\n",
    "   => Ex : 'Sky Double' dengan 'SKY DOUBLE' --> Nanti akan disesuaikan formatnya pada bagian Data Preparation\n",
    "2. Perbandingan jumlah NPS Score pada range 0-4 lebih sedikit dibandingkan jumlah NPS Score pada range 7-10\n",
    "\n",
    "   => Hipotesa Awal : Review Positif lebih banyak dibandingkan Review Negatif. Walaupun belum didapatkan perbandingan review positif dan negatif pada pod_type yang berjenis Bobobox dan Bobocabin\n",
    "\n",
    "   => Dari NPS Score tersebut akan dibuat kolom baru bernama 'score_classification' berisikan seperti keterangan dibawah ini.\n",
    "   \n",
    "   => Ket : Range 0-4 : Review Negatif || Range 7-10 : Review Positif || Range 5-6 : Review Netral\n",
    "    \n",
    "3. Pada kolom hotel_name terdapat value yang bernilai 'Boboliving' yaitu 'Boboliving Pancoran'.\n",
    "   \n",
    "   => Dikarenakan kita akan membandingkan antara bobocabin dengan bobobox saja. Maka nanti akan didrop untuk baris yang bernilai 'Boboliving' tersebut pada bagian Data Preparation \n",
    "\n",
    "4. Pada kolom nps_review terdapt value yang berbahasa Indonesia dan ada juga yang berbahasa Inggris. \n",
    "   \n",
    "   => Oleh karena itu, nanti pada bagian Data Preparation akan dilakukan translate dari bahasa Inggris ke Indonesia. \n",
    "   \n",
    "   => Dengan menggunakan bahasa yang sama, tujuannya supaya mempermudah bahwa reviewnya ini termasuk review yang positif atau negatif\n",
    "\n",
    "5. User yang menggunakan Android lebih banyak dibandingkan iOS"
   ]
  },
  {
   "cell_type": "code",
   "execution_count": 251,
   "metadata": {},
   "outputs": [
    {
     "data": {
      "image/png": "[encoded data removed]",
      "text/plain": [
       "<Figure size 1440x864 with 4 Axes>"
      ]
     },
     "metadata": {
      "needs_background": "light"
     },
     "output_type": "display_data"
    }
   ],
   "source": [
    "import seaborn as sns\n",
    "import matplotlib.pyplot as plt\n",
    "\n",
    "# Mengatur ukuran figure\n",
    "plt.figure(figsize=(20, 12))\n",
    "\n",
    "# Subplot pertama untuk kolom 'nps_score'\n",
    "plt.subplot(2, 2, 1)\n",
    "sns.countplot(y='nps_score', data=df)\n",
    "plt.title('Count Plot - nps_score')\n",
    "\n",
    "# Menambahkan anotasi teks di atas setiap bar untuk kolom 'nps_score'\n",
    "ax1 = plt.gca()\n",
    "for p in ax1.patches:\n",
    "    ax1.annotate(format(p.get_width(), '.0f'), (p.get_width(), p.get_y() + p.get_height() / 2), ha='left', va='center')\n",
    "\n",
    "# Subplot kedua untuk kolom 'pod_type'\n",
    "plt.subplot(2, 2, 2)\n",
    "sns.countplot(y='pod_type', data=df)\n",
    "plt.title('Count Plot - pod_type')\n",
    "\n",
    "# Menambahkan anotasi teks di atas setiap bar untuk kolom 'pod_type'\n",
    "ax2 = plt.gca()\n",
    "for p in ax2.patches:\n",
    "    ax2.annotate(format(p.get_width(), '.0f'), (p.get_width(), p.get_y() + p.get_height() / 2), ha='left', va='center')\n",
    "\n",
    "# Subplot ketiga untuk kolom 'source'\n",
    "plt.subplot(2, 2, 3)\n",
    "sns.countplot(y='source', data=df)\n",
    "plt.title('Count Plot - source')\n",
    "\n",
    "# Menambahkan anotasi teks di atas setiap bar untuk kolom 'order_id'\n",
    "ax3 = plt.gca()\n",
    "for p in ax3.patches:\n",
    "    ax3.annotate(format(p.get_width(), '.0f'), (p.get_width(), p.get_y() + p.get_height() / 2), ha='left', va='center')\n",
    "\n",
    "# Subplot keempat untuk kolom 'hotel_name'\n",
    "plt.subplot(2, 2, 4)\n",
    "sns.countplot(y='hotel_name', data=df)\n",
    "plt.title('Count Plot - hotel_name')\n",
    "\n",
    "# Menambahkan anotasi teks di atas setiap bar untuk kolom 'hotel_name'\n",
    "ax4 = plt.gca()\n",
    "for p in ax4.patches:\n",
    "    ax4.annotate(format(p.get_width(), '.0f'), (p.get_width(), p.get_y() + p.get_height() / 2), ha='left', va='center')\n",
    "\n",
    "# Menampilkan plot\n",
    "plt.tight_layout()\n",
    "plt.show()"
   ]
  },
  {
   "attachments": {},
   "cell_type": "markdown",
   "metadata": {},
   "source": [
    "## Data Preparation"
   ]
  },
  {
   "attachments": {},
   "cell_type": "markdown",
   "metadata": {},
   "source": [
    "### Data Preparation for Both df_id & df_en"
   ]
  },
  {
   "cell_type": "code",
   "execution_count": 252,
   "metadata": {},
   "outputs": [],
   "source": [
    "# Menyamakan format pada value kolom 'pod_type' \n",
    "df_id['pod_type'] = df_id['pod_type'].str.title()\n",
    "df_en['pod_type'] = df_id['pod_type'].str.title()"
   ]
  },
  {
   "cell_type": "code",
   "execution_count": 253,
   "metadata": {},
   "outputs": [],
   "source": [
    "# Fungsi untuk mengklasifikasikan nilai\n",
    "def classify_score(score):\n",
    "    if score >= 7:\n",
    "        return 'Positif'\n",
    "    elif score >= 5:\n",
    "        return 'Netral'\n",
    "    else:\n",
    "        return 'Negatif'\n",
    "\n",
    "# Buat kolom baru 'score_classification'\n",
    "df_id['score_classification'] = df_id['nps_score'].apply(classify_score)\n",
    "df_en['score_classification'] = df_en['nps_score'].apply(classify_score)"
   ]
  },
  {
   "cell_type": "code",
   "execution_count": 254,
   "metadata": {},
   "outputs": [],
   "source": [
    "# Drop value 'Boboliving Pancoran'\n",
    "df_id = df_id[df_id['hotel_name'] != 'Boboliving Pancoran']\n",
    "df_en = df_en[df_en['hotel_name'] != 'Boboliving Pancoran']\n",
    "\n",
    "# Buat kolom baru 'hotel_type'\n",
    "df_id['hotel_type'] = df_id['hotel_name'].apply(lambda x: 'Bobobox' if 'Bobobox' in x else 'Bobocabin')\n",
    "df_en['hotel_type'] = df_en['hotel_name'].apply(lambda x: 'Bobobox' if 'Bobobox' in x else 'Bobocabin')"
   ]
  },
  {
   "cell_type": "code",
   "execution_count": 255,
   "metadata": {},
   "outputs": [
    {
     "data": {
      "text/html": [
       "<div>\n",
       "<style scoped>\n",
       "    .dataframe tbody tr th:only-of-type {\n",
       "        vertical-align: middle;\n",
       "    }\n",
       "\n",
       "    .dataframe tbody tr th {\n",
       "        vertical-align: top;\n",
       "    }\n",
       "\n",
       "    .dataframe thead th {\n",
       "        text-align: right;\n",
       "    }\n",
       "</style>\n",
       "<table border=\"1\" class=\"dataframe\">\n",
       "  <thead>\n",
       "    <tr style=\"text-align: right;\">\n",
       "      <th></th>\n",
       "      <th>nps_score</th>\n",
       "      <th>checkin_date</th>\n",
       "      <th>checkout_date</th>\n",
       "      <th>created_at</th>\n",
       "      <th>source</th>\n",
       "      <th>order_id</th>\n",
       "      <th>hotel_name</th>\n",
       "      <th>pod_type</th>\n",
       "      <th>nps_review</th>\n",
       "      <th>nps_review_en</th>\n",
       "      <th>score_classification</th>\n",
       "      <th>hotel_type</th>\n",
       "    </tr>\n",
       "  </thead>\n",
       "  <tbody>\n",
       "    <tr>\n",
       "      <th>0</th>\n",
       "      <td>9</td>\n",
       "      <td>2023-06-11 0:00:00</td>\n",
       "      <td>2023-06-12 0:00:00</td>\n",
       "      <td>2023-06-12 1:04:16</td>\n",
       "      <td>iOS</td>\n",
       "      <td>1.011169e+16</td>\n",
       "      <td>Bobobox Tanah Abang</td>\n",
       "      <td>Earth Single</td>\n",
       "      <td>Ok banget</td>\n",
       "      <td>Ok</td>\n",
       "      <td>Positif</td>\n",
       "      <td>Bobobox</td>\n",
       "    </tr>\n",
       "    <tr>\n",
       "      <th>1</th>\n",
       "      <td>9</td>\n",
       "      <td>2023-06-10 23:00:00</td>\n",
       "      <td>2023-06-11 23:00:00</td>\n",
       "      <td>2023-06-12 1:03:35</td>\n",
       "      <td>iOS</td>\n",
       "      <td>1.023169e+16</td>\n",
       "      <td>Bobocabin Kintamani</td>\n",
       "      <td>Deluxe Cabin</td>\n",
       "      <td>tempatnya bagus, tenang, nyaman.</td>\n",
       "      <td>The place is good, calm, comfortable.</td>\n",
       "      <td>Positif</td>\n",
       "      <td>Bobocabin</td>\n",
       "    </tr>\n",
       "    <tr>\n",
       "      <th>2</th>\n",
       "      <td>9</td>\n",
       "      <td>2023-06-11 0:00:00</td>\n",
       "      <td>2023-06-12 0:00:00</td>\n",
       "      <td>2023-06-12 0:35:32</td>\n",
       "      <td>Android</td>\n",
       "      <td>1.026169e+16</td>\n",
       "      <td>Bobocabin Baturraden</td>\n",
       "      <td>Deluxe Cabin</td>\n",
       "      <td>OKOK</td>\n",
       "      <td>REASONS</td>\n",
       "      <td>Positif</td>\n",
       "      <td>Bobocabin</td>\n",
       "    </tr>\n",
       "    <tr>\n",
       "      <th>3</th>\n",
       "      <td>10</td>\n",
       "      <td>2023-05-31 0:00:00</td>\n",
       "      <td>2023-06-01 0:00:00</td>\n",
       "      <td>2023-06-11 17:54:34</td>\n",
       "      <td>iOS</td>\n",
       "      <td>1.004169e+16</td>\n",
       "      <td>Bobobox Pancoran</td>\n",
       "      <td>Earth Double</td>\n",
       "      <td>Please improve staff to be more active and dil...</td>\n",
       "      <td>Please improve staff to be more active and dil...</td>\n",
       "      <td>Positif</td>\n",
       "      <td>Bobobox</td>\n",
       "    </tr>\n",
       "    <tr>\n",
       "      <th>4</th>\n",
       "      <td>10</td>\n",
       "      <td>2023-06-09 0:00:00</td>\n",
       "      <td>2023-06-10 0:00:00</td>\n",
       "      <td>2023-06-11 16:02:58</td>\n",
       "      <td>iOS</td>\n",
       "      <td>1.014169e+16</td>\n",
       "      <td>Bobobox Slamet Riyadi Solo</td>\n",
       "      <td>Sky Double</td>\n",
       "      <td>nice</td>\n",
       "      <td>nice</td>\n",
       "      <td>Positif</td>\n",
       "      <td>Bobobox</td>\n",
       "    </tr>\n",
       "  </tbody>\n",
       "</table>\n",
       "</div>"
      ],
      "text/plain": [
       "   nps_score         checkin_date        checkout_date           created_at  \\\n",
       "0          9   2023-06-11 0:00:00   2023-06-12 0:00:00   2023-06-12 1:04:16   \n",
       "1          9  2023-06-10 23:00:00  2023-06-11 23:00:00   2023-06-12 1:03:35   \n",
       "2          9   2023-06-11 0:00:00   2023-06-12 0:00:00   2023-06-12 0:35:32   \n",
       "3         10   2023-05-31 0:00:00   2023-06-01 0:00:00  2023-06-11 17:54:34   \n",
       "4         10   2023-06-09 0:00:00   2023-06-10 0:00:00  2023-06-11 16:02:58   \n",
       "\n",
       "    source      order_id                  hotel_name      pod_type  \\\n",
       "0      iOS  1.011169e+16         Bobobox Tanah Abang  Earth Single   \n",
       "1      iOS  1.023169e+16        Bobocabin Kintamani   Deluxe Cabin   \n",
       "2  Android  1.026169e+16        Bobocabin Baturraden  Deluxe Cabin   \n",
       "3      iOS  1.004169e+16            Bobobox Pancoran  Earth Double   \n",
       "4      iOS  1.014169e+16  Bobobox Slamet Riyadi Solo    Sky Double   \n",
       "\n",
       "                                          nps_review  \\\n",
       "0                                          Ok banget   \n",
       "1                   tempatnya bagus, tenang, nyaman.   \n",
       "2                                               OKOK   \n",
       "3  Please improve staff to be more active and dil...   \n",
       "4                                               nice   \n",
       "\n",
       "                                       nps_review_en score_classification  \\\n",
       "0                                                 Ok              Positif   \n",
       "1              The place is good, calm, comfortable.              Positif   \n",
       "2                                            REASONS              Positif   \n",
       "3  Please improve staff to be more active and dil...              Positif   \n",
       "4                                               nice              Positif   \n",
       "\n",
       "  hotel_type  \n",
       "0    Bobobox  \n",
       "1  Bobocabin  \n",
       "2  Bobocabin  \n",
       "3    Bobobox  \n",
       "4    Bobobox  "
      ]
     },
     "execution_count": 255,
     "metadata": {},
     "output_type": "execute_result"
    }
   ],
   "source": [
    "df_en.head()\n",
    "# df_id.head()"
   ]
  },
  {
   "attachments": {},
   "cell_type": "markdown",
   "metadata": {},
   "source": [
    "### Stemming dan Stopword pada kolom nps_review"
   ]
  },
  {
   "attachments": {},
   "cell_type": "markdown",
   "metadata": {},
   "source": [
    "#### Untuk df_id"
   ]
  },
  {
   "cell_type": "code",
   "execution_count": 256,
   "metadata": {},
   "outputs": [],
   "source": [
    "import re\n",
    "from Sastrawi.Stemmer.StemmerFactory import StemmerFactory\n",
    "from nltk.corpus import stopwords\n",
    "\n",
    "def preprocess_text_id(text):\n",
    "    # Case Folding (Lowercasing)\n",
    "    text = text.lower()\n",
    "    \n",
    "    # Menghapus karakter yang tidak penting\n",
    "    text = re.sub(r'\\d+', '', text)  # Menghapus angka\n",
    "    text = re.sub(r'\\W+', ' ', text)  # Menghapus karakter non-alphanumerik kecuali spasi\n",
    "        \n",
    "    # Stemming\n",
    "    stemmer = StemmerFactory().create_stemmer()\n",
    "    words = [stemmer.stem(word) for word in text.split()]\n",
    "    \n",
    "    # Gabungkan kembali kata-kata menjadi teks\n",
    "    preprocessed_text = ' '.join(words)\n",
    "    \n",
    "    return preprocessed_text"
   ]
  },
  {
   "cell_type": "code",
   "execution_count": 257,
   "metadata": {},
   "outputs": [
    {
     "name": "stdout",
     "output_type": "stream",
     "text": [
      "Before: Oke | After: oke\n",
      "Before: tempatnya bagus, tenang, nyaman. | After: tempatnya bagu tenang nyaman\n",
      "Before: Alasan | After: alasan\n",
      "Before: Harap tingkatkan staf untuk menjadi lebih aktif dan rajin | After: harap tingkatkan staf untuk menjadi lebih aktif dan rajin\n",
      "Before: Bagus | After: bagu\n"
     ]
    }
   ],
   "source": [
    "reviews_id = df_id['nps_review_id'].tolist()\n",
    "preprocessed_texts_id = [preprocess_text_en(review) for review in reviews_id]\n",
    "df_id['preprocessed_review_id'] = preprocessed_texts_id\n",
    "\n",
    "for i in range(5):\n",
    "    print(f\"Before: {reviews_id[i]} | After: {preprocessed_texts_id[i]}\")"
   ]
  },
  {
   "attachments": {},
   "cell_type": "markdown",
   "metadata": {},
   "source": [
    "#### Untuk df_en"
   ]
  },
  {
   "cell_type": "code",
   "execution_count": 258,
   "metadata": {},
   "outputs": [],
   "source": [
    "import re\n",
    "from nltk.stem import PorterStemmer\n",
    "from nltk.corpus import stopwords\n",
    "\n",
    "def preprocess_text_en(text):\n",
    "    # Case Folding (Lowercasing)\n",
    "    text = text.lower()\n",
    "    \n",
    "    # Menghapus karakter yang tidak penting\n",
    "    text = re.sub(r'\\d+', '', text)  # Menghapus angka\n",
    "    text = re.sub(r'\\W+', ' ', text)  # Menghapus karakter non-alphanumerik kecuali spasi\n",
    "        \n",
    "    # Tokenisasi kata\n",
    "    words = text.split()\n",
    "    \n",
    "    # Stopwords removal\n",
    "    stop_words = set(stopwords.words('english'))\n",
    "    words = [word for word in words if word not in stop_words]\n",
    "    \n",
    "    # Stemming\n",
    "    stemmer = PorterStemmer()\n",
    "    words = [stemmer.stem(word) for word in words]\n",
    "    \n",
    "    # Gabungkan kembali kata-kata menjadi teks\n",
    "    preprocessed_text = ' '.join(words)\n",
    "    \n",
    "    return preprocessed_text\n"
   ]
  },
  {
   "cell_type": "code",
   "execution_count": 259,
   "metadata": {},
   "outputs": [
    {
     "name": "stdout",
     "output_type": "stream",
     "text": [
      "Before: Ok | After: ok\n",
      "Before: The place is good, calm, comfortable. | After: place good calm comfort\n",
      "Before: REASONS | After: reason\n",
      "Before: Please improve staff to be more active and diligent  | After: pleas improv staff activ dilig\n",
      "Before: nice | After: nice\n"
     ]
    }
   ],
   "source": [
    "reviews_en = df_en['nps_review_en'].tolist()\n",
    "preprocessed_texts_en = [preprocess_text_en(review) for review in reviews_en]\n",
    "df_en['preprocessed_review_en'] = preprocessed_texts_en\n",
    "\n",
    "for i in range(5):\n",
    "    print(f\"Before: {reviews_en[i]} | After: {preprocessed_texts_en[i]}\")"
   ]
  },
  {
   "attachments": {},
   "cell_type": "markdown",
   "metadata": {},
   "source": [
    "#### Checking & Drop Null Values After Stemming & Stopwords"
   ]
  },
  {
   "cell_type": "code",
   "execution_count": 260,
   "metadata": {},
   "outputs": [
    {
     "name": "stdout",
     "output_type": "stream",
     "text": [
      "Review - ID\n",
      "Total NPS Null Reviews : 10\n",
      "Total Data : 999\n",
      "NPS Null Reviews : 1.001001001001001 %\n",
      "\n",
      "Review - EN\n",
      "Total NPS Null Reviews : 15\n",
      "Total Data : 999\n",
      "NPS Null Reviews : 1.5015015015015014 %\n"
     ]
    }
   ],
   "source": [
    "print(\"Review - ID\")\n",
    "nps_null_review = len(df_id[df_id[\"preprocessed_review_id\"]==\"\"])\n",
    "df_id_len = len(df_id)\n",
    "print(f\"Total NPS Null Reviews : {nps_null_review}\")\n",
    "print(f\"Total Data : {df_id_len}\")\n",
    "print(f\"NPS Null Reviews : {nps_null_review/df_id_len*100} %\")\n",
    "\n",
    "print(\"\\nReview - EN\")\n",
    "nps_null_review = len(df_en[df_en[\"preprocessed_review_en\"]==\"\"])\n",
    "df_en_len = len(df_en)\n",
    "print(f\"Total NPS Null Reviews : {nps_null_review}\")\n",
    "print(f\"Total Data : {df_en_len}\")\n",
    "print(f\"NPS Null Reviews : {nps_null_review/df_en_len*100} %\")"
   ]
  },
  {
   "cell_type": "code",
   "execution_count": 261,
   "metadata": {},
   "outputs": [],
   "source": [
    "df_en[df_en[\"preprocessed_review_en\"]==\"\"]\n",
    "df_en = df_en[df_en['preprocessed_review_en'] != '']"
   ]
  },
  {
   "cell_type": "code",
   "execution_count": 262,
   "metadata": {},
   "outputs": [],
   "source": [
    "df_id[df_id[\"preprocessed_review_id\"]==\"\"]\n",
    "df_id = df_id[df_id['preprocessed_review_id'] != '']"
   ]
  },
  {
   "attachments": {},
   "cell_type": "markdown",
   "metadata": {},
   "source": [
    "#### Modelling Untuk df_id"
   ]
  },
  {
   "cell_type": "code",
   "execution_count": 263,
   "metadata": {},
   "outputs": [
    {
     "name": "stderr",
     "output_type": "stream",
     "text": [
      "Some weights of the model checkpoint at indolem/indobert-base-uncased were not used when initializing BertForSequenceClassification: ['cls.predictions.transform.LayerNorm.bias', 'cls.predictions.transform.LayerNorm.weight', 'cls.predictions.transform.dense.weight', 'cls.predictions.decoder.bias', 'cls.predictions.bias', 'cls.predictions.decoder.weight', 'cls.predictions.transform.dense.bias']\n",
      "- This IS expected if you are initializing BertForSequenceClassification from the checkpoint of a model trained on another task or with another architecture (e.g. initializing a BertForSequenceClassification model from a BertForPreTraining model).\n",
      "- This IS NOT expected if you are initializing BertForSequenceClassification from the checkpoint of a model that you expect to be exactly identical (initializing a BertForSequenceClassification model from a BertForSequenceClassification model).\n",
      "Some weights of BertForSequenceClassification were not initialized from the model checkpoint at indolem/indobert-base-uncased and are newly initialized: ['classifier.weight', 'classifier.bias']\n",
      "You should probably TRAIN this model on a down-stream task to be able to use it for predictions and inference.\n"
     ]
    },
    {
     "data": {
      "text/plain": [
       "BertForSequenceClassification(\n",
       "  (bert): BertModel(\n",
       "    (embeddings): BertEmbeddings(\n",
       "      (word_embeddings): Embedding(31923, 768, padding_idx=0)\n",
       "      (position_embeddings): Embedding(512, 768)\n",
       "      (token_type_embeddings): Embedding(2, 768)\n",
       "      (LayerNorm): LayerNorm((768,), eps=1e-12, elementwise_affine=True)\n",
       "      (dropout): Dropout(p=0.1, inplace=False)\n",
       "    )\n",
       "    (encoder): BertEncoder(\n",
       "      (layer): ModuleList(\n",
       "        (0-11): 12 x BertLayer(\n",
       "          (attention): BertAttention(\n",
       "            (self): BertSelfAttention(\n",
       "              (query): Linear(in_features=768, out_features=768, bias=True)\n",
       "              (key): Linear(in_features=768, out_features=768, bias=True)\n",
       "              (value): Linear(in_features=768, out_features=768, bias=True)\n",
       "              (dropout): Dropout(p=0.1, inplace=False)\n",
       "            )\n",
       "            (output): BertSelfOutput(\n",
       "              (dense): Linear(in_features=768, out_features=768, bias=True)\n",
       "              (LayerNorm): LayerNorm((768,), eps=1e-12, elementwise_affine=True)\n",
       "              (dropout): Dropout(p=0.1, inplace=False)\n",
       "            )\n",
       "          )\n",
       "          (intermediate): BertIntermediate(\n",
       "            (dense): Linear(in_features=768, out_features=3072, bias=True)\n",
       "            (intermediate_act_fn): GELUActivation()\n",
       "          )\n",
       "          (output): BertOutput(\n",
       "            (dense): Linear(in_features=3072, out_features=768, bias=True)\n",
       "            (LayerNorm): LayerNorm((768,), eps=1e-12, elementwise_affine=True)\n",
       "            (dropout): Dropout(p=0.1, inplace=False)\n",
       "          )\n",
       "        )\n",
       "      )\n",
       "    )\n",
       "    (pooler): BertPooler(\n",
       "      (dense): Linear(in_features=768, out_features=768, bias=True)\n",
       "      (activation): Tanh()\n",
       "    )\n",
       "  )\n",
       "  (dropout): Dropout(p=0.1, inplace=False)\n",
       "  (classifier): Linear(in_features=768, out_features=2, bias=True)\n",
       ")"
      ]
     },
     "execution_count": 263,
     "metadata": {},
     "output_type": "execute_result"
    }
   ],
   "source": [
    "import torch\n",
    "from transformers import AutoTokenizer, AutoModelForSequenceClassification\n",
    "\n",
    "# Load IndoBERT model\n",
    "model_name = \"indolem/indobert-base-uncased\"\n",
    "tokenizer = AutoTokenizer.from_pretrained(model_name)\n",
    "model = AutoModelForSequenceClassification.from_pretrained(model_name)\n",
    "\n",
    "# Preprocess and analyze sentiment\n",
    "device = torch.device(\"cuda\" if torch.cuda.is_available() else \"cpu\")\n",
    "model.to(device)\n",
    "model.eval()"
   ]
  },
  {
   "cell_type": "code",
   "execution_count": 278,
   "metadata": {},
   "outputs": [],
   "source": [
    "reviews_model_id = df_id['preprocessed_review_id']\n",
    "\n",
    "data_id = []\n",
    "\n",
    "# Perform sentiment analysis and store the data_id\n",
    "for review in reviews_model_id:\n",
    "    inputs = tokenizer(review, truncation=True, padding=True, return_tensors=\"pt\")\n",
    "    input_ids = inputs[\"input_ids\"].to(device)\n",
    "    attention_mask = inputs[\"attention_mask\"].to(device)\n",
    "\n",
    "    with torch.no_grad():\n",
    "        logits = model(input_ids, attention_mask=attention_mask)[0]\n",
    "        probabilities = torch.softmax(logits, dim=1).squeeze()\n",
    "\n",
    "    positive_prob = probabilities[1].item()\n",
    "    negative_prob = probabilities[0].item()\n",
    "\n",
    "    sentiment_score = positive_prob - negative_prob\n",
    "\n",
    "    sentiment_label = \"\"\n",
    "    if sentiment_score > 0.05:\n",
    "        sentiment_label = \"Positive\"\n",
    "    elif sentiment_score < -0.05:\n",
    "        sentiment_label = \"Negative\"\n",
    "    else:\n",
    "        sentiment_label = \"Neutral\"\n",
    "\n",
    "    data_id.append({\n",
    "        \"Review\": review,\n",
    "        \"Sentiment\": sentiment_label,\n",
    "        \"Sentiment Score\": sentiment_score\n",
    "    }\n",
    "    )"
   ]
  },
  {
   "cell_type": "code",
   "execution_count": 279,
   "metadata": {},
   "outputs": [
    {
     "data": {
      "text/html": [
       "<div>\n",
       "<style scoped>\n",
       "    .dataframe tbody tr th:only-of-type {\n",
       "        vertical-align: middle;\n",
       "    }\n",
       "\n",
       "    .dataframe tbody tr th {\n",
       "        vertical-align: top;\n",
       "    }\n",
       "\n",
       "    .dataframe thead th {\n",
       "        text-align: right;\n",
       "    }\n",
       "</style>\n",
       "<table border=\"1\" class=\"dataframe\">\n",
       "  <thead>\n",
       "    <tr style=\"text-align: right;\">\n",
       "      <th></th>\n",
       "      <th>Review</th>\n",
       "      <th>Sentiment</th>\n",
       "      <th>Sentiment Score</th>\n",
       "    </tr>\n",
       "  </thead>\n",
       "  <tbody>\n",
       "    <tr>\n",
       "      <th>0</th>\n",
       "      <td>oke</td>\n",
       "      <td>Negative</td>\n",
       "      <td>-0.190381</td>\n",
       "    </tr>\n",
       "    <tr>\n",
       "      <th>1</th>\n",
       "      <td>tempatnya bagu tenang nyaman</td>\n",
       "      <td>Negative</td>\n",
       "      <td>-0.092344</td>\n",
       "    </tr>\n",
       "    <tr>\n",
       "      <th>2</th>\n",
       "      <td>alasan</td>\n",
       "      <td>Negative</td>\n",
       "      <td>-0.088745</td>\n",
       "    </tr>\n",
       "    <tr>\n",
       "      <th>3</th>\n",
       "      <td>harap tingkatkan staf untuk menjadi lebih akti...</td>\n",
       "      <td>Negative</td>\n",
       "      <td>-0.181704</td>\n",
       "    </tr>\n",
       "    <tr>\n",
       "      <th>4</th>\n",
       "      <td>bagu</td>\n",
       "      <td>Negative</td>\n",
       "      <td>-0.172892</td>\n",
       "    </tr>\n",
       "  </tbody>\n",
       "</table>\n",
       "</div>"
      ],
      "text/plain": [
       "                                              Review Sentiment  \\\n",
       "0                                                oke  Negative   \n",
       "1                       tempatnya bagu tenang nyaman  Negative   \n",
       "2                                             alasan  Negative   \n",
       "3  harap tingkatkan staf untuk menjadi lebih akti...  Negative   \n",
       "4                                               bagu  Negative   \n",
       "\n",
       "   Sentiment Score  \n",
       "0        -0.190381  \n",
       "1        -0.092344  \n",
       "2        -0.088745  \n",
       "3        -0.181704  \n",
       "4        -0.172892  "
      ]
     },
     "execution_count": 279,
     "metadata": {},
     "output_type": "execute_result"
    }
   ],
   "source": [
    "# Konversi list data_id ke dalam dataframe\n",
    "df_data_id = pd.DataFrame(data_id)\n",
    "df_data_id.head()"
   ]
  },
  {
   "cell_type": "code",
   "execution_count": 280,
   "metadata": {},
   "outputs": [
    {
     "data": {
      "text/plain": [
       "Negative    659\n",
       "Neutral     166\n",
       "Positive    164\n",
       "Name: Sentiment, dtype: int64"
      ]
     },
     "execution_count": 280,
     "metadata": {},
     "output_type": "execute_result"
    }
   ],
   "source": [
    "df_data_id['Sentiment'].value_counts()"
   ]
  },
  {
   "attachments": {},
   "cell_type": "markdown",
   "metadata": {},
   "source": [
    "#### Modelling untuk df_en"
   ]
  },
  {
   "attachments": {},
   "cell_type": "markdown",
   "metadata": {},
   "source": [
    "##### Model VADER"
   ]
  },
  {
   "cell_type": "code",
   "execution_count": 267,
   "metadata": {},
   "outputs": [
    {
     "data": {
      "text/html": [
       "<div>\n",
       "<style scoped>\n",
       "    .dataframe tbody tr th:only-of-type {\n",
       "        vertical-align: middle;\n",
       "    }\n",
       "\n",
       "    .dataframe tbody tr th {\n",
       "        vertical-align: top;\n",
       "    }\n",
       "\n",
       "    .dataframe thead th {\n",
       "        text-align: right;\n",
       "    }\n",
       "</style>\n",
       "<table border=\"1\" class=\"dataframe\">\n",
       "  <thead>\n",
       "    <tr style=\"text-align: right;\">\n",
       "      <th></th>\n",
       "      <th>nps_score</th>\n",
       "      <th>checkin_date</th>\n",
       "      <th>checkout_date</th>\n",
       "      <th>created_at</th>\n",
       "      <th>source</th>\n",
       "      <th>order_id</th>\n",
       "      <th>hotel_name</th>\n",
       "      <th>pod_type</th>\n",
       "      <th>nps_review</th>\n",
       "      <th>nps_review_en</th>\n",
       "      <th>score_classification</th>\n",
       "      <th>hotel_type</th>\n",
       "      <th>preprocessed_review_en</th>\n",
       "    </tr>\n",
       "  </thead>\n",
       "  <tbody>\n",
       "    <tr>\n",
       "      <th>0</th>\n",
       "      <td>9</td>\n",
       "      <td>2023-06-11 0:00:00</td>\n",
       "      <td>2023-06-12 0:00:00</td>\n",
       "      <td>2023-06-12 1:04:16</td>\n",
       "      <td>iOS</td>\n",
       "      <td>1.011169e+16</td>\n",
       "      <td>Bobobox Tanah Abang</td>\n",
       "      <td>Earth Single</td>\n",
       "      <td>Ok banget</td>\n",
       "      <td>Ok</td>\n",
       "      <td>Positif</td>\n",
       "      <td>Bobobox</td>\n",
       "      <td>ok</td>\n",
       "    </tr>\n",
       "    <tr>\n",
       "      <th>1</th>\n",
       "      <td>9</td>\n",
       "      <td>2023-06-10 23:00:00</td>\n",
       "      <td>2023-06-11 23:00:00</td>\n",
       "      <td>2023-06-12 1:03:35</td>\n",
       "      <td>iOS</td>\n",
       "      <td>1.023169e+16</td>\n",
       "      <td>Bobocabin Kintamani</td>\n",
       "      <td>Deluxe Cabin</td>\n",
       "      <td>tempatnya bagus, tenang, nyaman.</td>\n",
       "      <td>The place is good, calm, comfortable.</td>\n",
       "      <td>Positif</td>\n",
       "      <td>Bobocabin</td>\n",
       "      <td>place good calm comfort</td>\n",
       "    </tr>\n",
       "    <tr>\n",
       "      <th>2</th>\n",
       "      <td>9</td>\n",
       "      <td>2023-06-11 0:00:00</td>\n",
       "      <td>2023-06-12 0:00:00</td>\n",
       "      <td>2023-06-12 0:35:32</td>\n",
       "      <td>Android</td>\n",
       "      <td>1.026169e+16</td>\n",
       "      <td>Bobocabin Baturraden</td>\n",
       "      <td>Deluxe Cabin</td>\n",
       "      <td>OKOK</td>\n",
       "      <td>REASONS</td>\n",
       "      <td>Positif</td>\n",
       "      <td>Bobocabin</td>\n",
       "      <td>reason</td>\n",
       "    </tr>\n",
       "    <tr>\n",
       "      <th>3</th>\n",
       "      <td>10</td>\n",
       "      <td>2023-05-31 0:00:00</td>\n",
       "      <td>2023-06-01 0:00:00</td>\n",
       "      <td>2023-06-11 17:54:34</td>\n",
       "      <td>iOS</td>\n",
       "      <td>1.004169e+16</td>\n",
       "      <td>Bobobox Pancoran</td>\n",
       "      <td>Earth Double</td>\n",
       "      <td>Please improve staff to be more active and dil...</td>\n",
       "      <td>Please improve staff to be more active and dil...</td>\n",
       "      <td>Positif</td>\n",
       "      <td>Bobobox</td>\n",
       "      <td>pleas improv staff activ dilig</td>\n",
       "    </tr>\n",
       "    <tr>\n",
       "      <th>4</th>\n",
       "      <td>10</td>\n",
       "      <td>2023-06-09 0:00:00</td>\n",
       "      <td>2023-06-10 0:00:00</td>\n",
       "      <td>2023-06-11 16:02:58</td>\n",
       "      <td>iOS</td>\n",
       "      <td>1.014169e+16</td>\n",
       "      <td>Bobobox Slamet Riyadi Solo</td>\n",
       "      <td>Sky Double</td>\n",
       "      <td>nice</td>\n",
       "      <td>nice</td>\n",
       "      <td>Positif</td>\n",
       "      <td>Bobobox</td>\n",
       "      <td>nice</td>\n",
       "    </tr>\n",
       "  </tbody>\n",
       "</table>\n",
       "</div>"
      ],
      "text/plain": [
       "   nps_score         checkin_date        checkout_date           created_at  \\\n",
       "0          9   2023-06-11 0:00:00   2023-06-12 0:00:00   2023-06-12 1:04:16   \n",
       "1          9  2023-06-10 23:00:00  2023-06-11 23:00:00   2023-06-12 1:03:35   \n",
       "2          9   2023-06-11 0:00:00   2023-06-12 0:00:00   2023-06-12 0:35:32   \n",
       "3         10   2023-05-31 0:00:00   2023-06-01 0:00:00  2023-06-11 17:54:34   \n",
       "4         10   2023-06-09 0:00:00   2023-06-10 0:00:00  2023-06-11 16:02:58   \n",
       "\n",
       "    source      order_id                  hotel_name      pod_type  \\\n",
       "0      iOS  1.011169e+16         Bobobox Tanah Abang  Earth Single   \n",
       "1      iOS  1.023169e+16        Bobocabin Kintamani   Deluxe Cabin   \n",
       "2  Android  1.026169e+16        Bobocabin Baturraden  Deluxe Cabin   \n",
       "3      iOS  1.004169e+16            Bobobox Pancoran  Earth Double   \n",
       "4      iOS  1.014169e+16  Bobobox Slamet Riyadi Solo    Sky Double   \n",
       "\n",
       "                                          nps_review  \\\n",
       "0                                          Ok banget   \n",
       "1                   tempatnya bagus, tenang, nyaman.   \n",
       "2                                               OKOK   \n",
       "3  Please improve staff to be more active and dil...   \n",
       "4                                               nice   \n",
       "\n",
       "                                       nps_review_en score_classification  \\\n",
       "0                                                 Ok              Positif   \n",
       "1              The place is good, calm, comfortable.              Positif   \n",
       "2                                            REASONS              Positif   \n",
       "3  Please improve staff to be more active and dil...              Positif   \n",
       "4                                               nice              Positif   \n",
       "\n",
       "  hotel_type          preprocessed_review_en  \n",
       "0    Bobobox                              ok  \n",
       "1  Bobocabin         place good calm comfort  \n",
       "2  Bobocabin                          reason  \n",
       "3    Bobobox  pleas improv staff activ dilig  \n",
       "4    Bobobox                            nice  "
      ]
     },
     "execution_count": 267,
     "metadata": {},
     "output_type": "execute_result"
    }
   ],
   "source": [
    "df_en.head()"
   ]
  },
  {
   "cell_type": "code",
   "execution_count": 328,
   "metadata": {},
   "outputs": [
    {
     "data": {
      "text/html": [
       "<div>\n",
       "<style scoped>\n",
       "    .dataframe tbody tr th:only-of-type {\n",
       "        vertical-align: middle;\n",
       "    }\n",
       "\n",
       "    .dataframe tbody tr th {\n",
       "        vertical-align: top;\n",
       "    }\n",
       "\n",
       "    .dataframe thead th {\n",
       "        text-align: right;\n",
       "    }\n",
       "</style>\n",
       "<table border=\"1\" class=\"dataframe\">\n",
       "  <thead>\n",
       "    <tr style=\"text-align: right;\">\n",
       "      <th></th>\n",
       "      <th>nps_score</th>\n",
       "      <th>checkin_date</th>\n",
       "      <th>checkout_date</th>\n",
       "      <th>created_at</th>\n",
       "      <th>source</th>\n",
       "      <th>order_id</th>\n",
       "      <th>hotel_name</th>\n",
       "      <th>pod_type</th>\n",
       "      <th>nps_review</th>\n",
       "      <th>nps_review_en</th>\n",
       "      <th>score_classification</th>\n",
       "      <th>hotel_type</th>\n",
       "      <th>preprocessed_review_en</th>\n",
       "      <th>Sentiment</th>\n",
       "      <th>Compound Score</th>\n",
       "    </tr>\n",
       "  </thead>\n",
       "  <tbody>\n",
       "    <tr>\n",
       "      <th>0</th>\n",
       "      <td>9</td>\n",
       "      <td>2023-06-11 0:00:00</td>\n",
       "      <td>2023-06-12 0:00:00</td>\n",
       "      <td>2023-06-12 1:04:16</td>\n",
       "      <td>iOS</td>\n",
       "      <td>1.011169e+16</td>\n",
       "      <td>Bobobox Tanah Abang</td>\n",
       "      <td>Earth Single</td>\n",
       "      <td>Ok banget</td>\n",
       "      <td>Ok</td>\n",
       "      <td>Positif</td>\n",
       "      <td>Bobobox</td>\n",
       "      <td>ok</td>\n",
       "      <td>Positive</td>\n",
       "      <td>0.2960</td>\n",
       "    </tr>\n",
       "    <tr>\n",
       "      <th>1</th>\n",
       "      <td>9</td>\n",
       "      <td>2023-06-10 23:00:00</td>\n",
       "      <td>2023-06-11 23:00:00</td>\n",
       "      <td>2023-06-12 1:03:35</td>\n",
       "      <td>iOS</td>\n",
       "      <td>1.023169e+16</td>\n",
       "      <td>Bobocabin Kintamani</td>\n",
       "      <td>Deluxe Cabin</td>\n",
       "      <td>tempatnya bagus, tenang, nyaman.</td>\n",
       "      <td>The place is good, calm, comfortable.</td>\n",
       "      <td>Positif</td>\n",
       "      <td>Bobocabin</td>\n",
       "      <td>place good calm comfort</td>\n",
       "      <td>Positive</td>\n",
       "      <td>0.7717</td>\n",
       "    </tr>\n",
       "    <tr>\n",
       "      <th>2</th>\n",
       "      <td>9</td>\n",
       "      <td>2023-06-11 0:00:00</td>\n",
       "      <td>2023-06-12 0:00:00</td>\n",
       "      <td>2023-06-12 0:35:32</td>\n",
       "      <td>Android</td>\n",
       "      <td>1.026169e+16</td>\n",
       "      <td>Bobocabin Baturraden</td>\n",
       "      <td>Deluxe Cabin</td>\n",
       "      <td>OKOK</td>\n",
       "      <td>REASONS</td>\n",
       "      <td>Positif</td>\n",
       "      <td>Bobocabin</td>\n",
       "      <td>reason</td>\n",
       "      <td>Neutral</td>\n",
       "      <td>0.0000</td>\n",
       "    </tr>\n",
       "    <tr>\n",
       "      <th>3</th>\n",
       "      <td>10</td>\n",
       "      <td>2023-05-31 0:00:00</td>\n",
       "      <td>2023-06-01 0:00:00</td>\n",
       "      <td>2023-06-11 17:54:34</td>\n",
       "      <td>iOS</td>\n",
       "      <td>1.004169e+16</td>\n",
       "      <td>Bobobox Pancoran</td>\n",
       "      <td>Earth Double</td>\n",
       "      <td>Please improve staff to be more active and dil...</td>\n",
       "      <td>Please improve staff to be more active and dil...</td>\n",
       "      <td>Positif</td>\n",
       "      <td>Bobobox</td>\n",
       "      <td>pleas improv staff activ dilig</td>\n",
       "      <td>Neutral</td>\n",
       "      <td>0.0000</td>\n",
       "    </tr>\n",
       "    <tr>\n",
       "      <th>4</th>\n",
       "      <td>10</td>\n",
       "      <td>2023-06-09 0:00:00</td>\n",
       "      <td>2023-06-10 0:00:00</td>\n",
       "      <td>2023-06-11 16:02:58</td>\n",
       "      <td>iOS</td>\n",
       "      <td>1.014169e+16</td>\n",
       "      <td>Bobobox Slamet Riyadi Solo</td>\n",
       "      <td>Sky Double</td>\n",
       "      <td>nice</td>\n",
       "      <td>nice</td>\n",
       "      <td>Positif</td>\n",
       "      <td>Bobobox</td>\n",
       "      <td>nice</td>\n",
       "      <td>Positive</td>\n",
       "      <td>0.4215</td>\n",
       "    </tr>\n",
       "  </tbody>\n",
       "</table>\n",
       "</div>"
      ],
      "text/plain": [
       "   nps_score         checkin_date        checkout_date           created_at  \\\n",
       "0          9   2023-06-11 0:00:00   2023-06-12 0:00:00   2023-06-12 1:04:16   \n",
       "1          9  2023-06-10 23:00:00  2023-06-11 23:00:00   2023-06-12 1:03:35   \n",
       "2          9   2023-06-11 0:00:00   2023-06-12 0:00:00   2023-06-12 0:35:32   \n",
       "3         10   2023-05-31 0:00:00   2023-06-01 0:00:00  2023-06-11 17:54:34   \n",
       "4         10   2023-06-09 0:00:00   2023-06-10 0:00:00  2023-06-11 16:02:58   \n",
       "\n",
       "    source      order_id                  hotel_name      pod_type  \\\n",
       "0      iOS  1.011169e+16         Bobobox Tanah Abang  Earth Single   \n",
       "1      iOS  1.023169e+16        Bobocabin Kintamani   Deluxe Cabin   \n",
       "2  Android  1.026169e+16        Bobocabin Baturraden  Deluxe Cabin   \n",
       "3      iOS  1.004169e+16            Bobobox Pancoran  Earth Double   \n",
       "4      iOS  1.014169e+16  Bobobox Slamet Riyadi Solo    Sky Double   \n",
       "\n",
       "                                          nps_review  \\\n",
       "0                                          Ok banget   \n",
       "1                   tempatnya bagus, tenang, nyaman.   \n",
       "2                                               OKOK   \n",
       "3  Please improve staff to be more active and dil...   \n",
       "4                                               nice   \n",
       "\n",
       "                                       nps_review_en score_classification  \\\n",
       "0                                                 Ok              Positif   \n",
       "1              The place is good, calm, comfortable.              Positif   \n",
       "2                                            REASONS              Positif   \n",
       "3  Please improve staff to be more active and dil...              Positif   \n",
       "4                                               nice              Positif   \n",
       "\n",
       "  hotel_type          preprocessed_review_en Sentiment  Compound Score  \n",
       "0    Bobobox                              ok  Positive          0.2960  \n",
       "1  Bobocabin         place good calm comfort  Positive          0.7717  \n",
       "2  Bobocabin                          reason   Neutral          0.0000  \n",
       "3    Bobobox  pleas improv staff activ dilig   Neutral          0.0000  \n",
       "4    Bobobox                            nice  Positive          0.4215  "
      ]
     },
     "execution_count": 328,
     "metadata": {},
     "output_type": "execute_result"
    }
   ],
   "source": [
    "import pandas as pd\n",
    "from nltk.sentiment.vader import SentimentIntensityAnalyzer\n",
    "\n",
    "# Data\n",
    "data = df_en['preprocessed_review_en'].tolist()\n",
    "\n",
    "# Initialize VADER SentimentIntensityAnalyzer\n",
    "sia = SentimentIntensityAnalyzer()\n",
    "\n",
    "# Perform sentiment analysis and create DataFrame\n",
    "sentiments = []\n",
    "compound_scores = []\n",
    "\n",
    "for sentence in data:\n",
    "    sentiment_scores = sia.polarity_scores(sentence)\n",
    "    compound_score = sentiment_scores['compound']\n",
    "    \n",
    "    if compound_score >= 0.05:\n",
    "        sentiment = 'Positive'\n",
    "    elif compound_score <= -0.05:\n",
    "        sentiment = 'Negative'\n",
    "    else:\n",
    "        sentiment = 'Neutral'\n",
    "    \n",
    "    sentiments.append(sentiment)\n",
    "    compound_scores.append(compound_score)\n",
    "\n",
    "\n",
    "df_en['Sentiment'] = sentiments\n",
    "df_en['Compound Score'] = compound_scores\n",
    "# df_eng_sentiment = pd.DataFrame({'Sentence': data, 'Sentiment': sentiments, 'Compound Score': compound_scores})\n",
    "\n",
    "# Print the DataFrame\n",
    "df_en.head()"
   ]
  },
  {
   "cell_type": "code",
   "execution_count": 331,
   "metadata": {},
   "outputs": [
    {
     "data": {
      "text/plain": [
       "<AxesSubplot:>"
      ]
     },
     "execution_count": 331,
     "metadata": {},
     "output_type": "execute_result"
    },
    {
     "data": {
      "image/png": "[encoded data removed]",
      "text/plain": [
       "<Figure size 432x288 with 1 Axes>"
      ]
     },
     "metadata": {
      "needs_background": "light"
     },
     "output_type": "display_data"
    }
   ],
   "source": [
    "df_en['Sentiment'].value_counts().plot(kind='barh')"
   ]
  },
  {
   "cell_type": "code",
   "execution_count": 332,
   "metadata": {},
   "outputs": [],
   "source": [
    "df_en.to_csv('merged_file.csv', index=False)"
   ]
  }
 ],
 "metadata": {
  "kernelspec": {
   "display_name": "Python 3",
   "language": "python",
   "name": "python3"
  },
  "language_info": {
   "codemirror_mode": {
    "name": "ipython",
    "version": 3
   },
   "file_extension": ".py",
   "mimetype": "text/x-python",
   "name": "python",
   "nbconvert_exporter": "python",
   "pygments_lexer": "ipython3",
   "version": "3.10.7"
  },
  "orig_nbformat": 4
 },
 "nbformat": 4,
 "nbformat_minor": 2
}
